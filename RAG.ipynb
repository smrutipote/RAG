{
 "cells": [
  {
   "cell_type": "code",
   "execution_count": 1,
   "id": "6d95f15d-23f9-43b4-a964-32b84e22ce3d",
   "metadata": {},
   "outputs": [],
   "source": [
    "import wikipedia\n",
    "from transformers import AutoTokenizer, AutoModelForQuestionAnswering, pipeline\n",
    "from sentence_transformers import SentenceTransformer\n",
    "import faiss\n",
    "import numpy as np"
   ]
  },
  {
   "cell_type": "code",
   "execution_count": 2,
   "id": "bcc791ca-5980-456e-bc7d-dc5cfcd3fcd3",
   "metadata": {},
   "outputs": [],
   "source": [
    "import warnings\n",
    "warnings.filterwarnings(\"ignore\")"
   ]
  },
  {
   "cell_type": "code",
   "execution_count": 3,
   "id": "bc3499a2-867a-422d-9482-4d2a8f079143",
   "metadata": {},
   "outputs": [
    {
     "name": "stdin",
     "output_type": "stream",
     "text": [
      "Enter a topic to research mango plant\n"
     ]
    }
   ],
   "source": [
    "def get_contents(topic):\n",
    "    try:\n",
    "        page = wikipedia.page(topic)\n",
    "        return page.content\n",
    "    except wikipedia.exceptions.PageError:\n",
    "        return None\n",
    "    except wikipedia.exceptions.DisambiguationError as e:\n",
    "        print(f'Topic provided is ambigious, please select other specific options :  {e.options}')\n",
    "        return None\n",
    "\n",
    "topic = input('Enter a topic to research')\n",
    "\n",
    "document = get_contents(topic)\n",
    "\n",
    "if not document:\n",
    "    print('No result to publish')\n",
    "    exit()"
   ]
  },
  {
   "cell_type": "code",
   "execution_count": 4,
   "id": "81f771d1-16ef-4c2b-ba1f-73821cb38ef8",
   "metadata": {},
   "outputs": [
    {
     "name": "stderr",
     "output_type": "stream",
     "text": [
      "Token indices sequence length is longer than the specified maximum sequence length for this model (4366 > 512). Running this sequence through the model will result in indexing errors\n"
     ]
    },
    {
     "name": "stdout",
     "output_type": "stream",
     "text": [
      "Number of chunks created 19\n"
     ]
    }
   ],
   "source": [
    "# load tokenizer\n",
    "\n",
    "tokenizer = AutoTokenizer.from_pretrained(\"sentence-transformers/all-mpnet-base-v2\")\n",
    "\n",
    "def create_chunks(document, chunk_size= 256, chunk_overlap=20):\n",
    "    tokens = tokenizer.tokenize(document)\n",
    "    chunks=[]\n",
    "    start=0\n",
    "    while start < len(tokens):\n",
    "        end= min(start+chunk_size, len(tokens))\n",
    "        chunks.append(tokenizer.convert_tokens_to_string(tokens[start:end]))\n",
    "        if end == len(tokens):\n",
    "            break\n",
    "        start= end - chunk_overlap\n",
    "    return chunks\n",
    "\n",
    "chuncks= create_chunks(document)\n",
    "print(f'Number of chunks created {len(chuncks)}')"
   ]
  },
  {
   "cell_type": "code",
   "execution_count": 5,
   "id": "5a2dc7f4-bb24-4b61-8488-594e74bc4bb5",
   "metadata": {},
   "outputs": [],
   "source": [
    "embedding_model = SentenceTransformer(\"sentence-transformers/all-mpnet-base-v2\")\n",
    "embeddings = embedding_model.encode(chuncks)"
   ]
  },
  {
   "cell_type": "code",
   "execution_count": 6,
   "id": "c74d1d56-d774-4aaf-8a8b-85ffc26bac58",
   "metadata": {},
   "outputs": [
    {
     "name": "stdout",
     "output_type": "stream",
     "text": [
      "[[ 0.04770076  0.01964167 -0.01560034 ...  0.00756312  0.02471893\n",
      "  -0.02613712]\n",
      " [ 0.03630906  0.01245931 -0.01416473 ...  0.00426883  0.01575447\n",
      "  -0.04536134]\n",
      " [ 0.03126928  0.01449801 -0.01261422 ...  0.02213684  0.01304369\n",
      "  -0.03824551]\n",
      " ...\n",
      " [ 0.00998881  0.02058469 -0.02952743 ...  0.05728513 -0.02873346\n",
      "  -0.05945873]\n",
      " [ 0.05490751  0.00127059 -0.0093817  ... -0.01307335 -0.00080198\n",
      "  -0.05304766]\n",
      " [ 0.02953332  0.03127516 -0.01317424 ...  0.02744339  0.01183814\n",
      "  -0.03318902]]\n"
     ]
    }
   ],
   "source": [
    "print(embeddings)"
   ]
  },
  {
   "cell_type": "code",
   "execution_count": 7,
   "id": "fb7e2dac-416a-49c9-a56a-8a13e2601dfa",
   "metadata": {},
   "outputs": [
    {
     "data": {
      "text/plain": [
       "(19, 768)"
      ]
     },
     "execution_count": 7,
     "metadata": {},
     "output_type": "execute_result"
    }
   ],
   "source": [
    "embeddings.shape"
   ]
  },
  {
   "cell_type": "code",
   "execution_count": null,
   "id": "a5ea0f14-169e-4959-ad48-163ce1443b17",
   "metadata": {},
   "outputs": [],
   "source": [
    "# (47, 768)\n",
    "# number of chunks = 47,\n",
    "# number of vectores in each chunk = 768"
   ]
  },
  {
   "cell_type": "code",
   "execution_count": 8,
   "id": "b5c541ee-49d0-494a-b9bd-54c783c3959b",
   "metadata": {},
   "outputs": [],
   "source": [
    "num_vec= embeddings.shape[1]\n",
    "index = faiss.IndexFlatL2(num_vec)\n",
    "index.add(np.array(embeddings))"
   ]
  },
  {
   "cell_type": "code",
   "execution_count": 9,
   "id": "5c5e0452-c878-47af-99be-b30962a4a20d",
   "metadata": {},
   "outputs": [
    {
     "name": "stdin",
     "output_type": "stream",
     "text": [
      "Ask a question based on topic different name for mango\n"
     ]
    }
   ],
   "source": [
    "query = input('Ask a question based on topic')\n",
    "query_embedding = embedding_model.encode([query])\n",
    "\n",
    "k=3\n",
    "distances, indices = index.search(np.array(query_embedding),k)"
   ]
  },
  {
   "cell_type": "code",
   "execution_count": 10,
   "id": "52095fec-3b2c-413a-95f6-1ba3079ea198",
   "metadata": {},
   "outputs": [
    {
     "data": {
      "text/plain": [
       "array([[0.47468457, 0.5476579 , 0.6402631 ]], dtype=float32)"
      ]
     },
     "execution_count": 10,
     "metadata": {},
     "output_type": "execute_result"
    }
   ],
   "source": [
    "distances"
   ]
  },
  {
   "cell_type": "code",
   "execution_count": 11,
   "id": "bc28897e-1852-4a72-954d-5713c504c8b6",
   "metadata": {},
   "outputs": [
    {
     "data": {
      "text/plain": [
       "array([[ 0, 17,  7]], dtype=int64)"
      ]
     },
     "execution_count": 11,
     "metadata": {},
     "output_type": "execute_result"
    }
   ],
   "source": [
    "indices"
   ]
  },
  {
   "cell_type": "code",
   "execution_count": 12,
   "id": "4e7b3bd5-8ec0-411a-8bfd-c86765e79c81",
   "metadata": {},
   "outputs": [
    {
     "data": {
      "text/plain": [
       "array([ 0, 17,  7], dtype=int64)"
      ]
     },
     "execution_count": 12,
     "metadata": {},
     "output_type": "execute_result"
    }
   ],
   "source": [
    "indices[0]"
   ]
  },
  {
   "cell_type": "code",
   "execution_count": 13,
   "id": "44df8f8b-9881-4199-853e-8c3a39bbe810",
   "metadata": {},
   "outputs": [],
   "source": [
    "relevant_chunks = [chuncks[i] for i in indices[0]]"
   ]
  },
  {
   "cell_type": "code",
   "execution_count": 14,
   "id": "ded96757-cac9-48c5-8898-dd3dff65b2da",
   "metadata": {},
   "outputs": [
    {
     "name": "stdout",
     "output_type": "stream",
     "text": [
      "---\n",
      "a mango is an edible stone fruit produced by the tropical tree mangifera indica. it originated from the region between northwestern myanmar, bangladesh, and northeastern india. m. indica has been cultivated in south and southeast asia since ancient times resulting in two types of modern mango cultivars : the \" indian type \" and the \" southeast asian type \". other species in the genus mangifera also produce edible fruits that are also called \" mangoes \", the majority of which are found in the malesian ecoregion. worldwide, there are several hundred cultivars of mango. depending on the cultivar, mango fruit varies in size, shape, sweetness, skin color, and flesh color, which may be pale yellow, gold, green, or orange. mango is the national fruit of india, pakistan and the philippines, while the mango tree is the national tree of bangladesh. = = etymology = = the english word mango ( plural mangoes or mangos ) originated in the 16th century from the portuguese word manga, from the malay mangga, and ultimately from the tamil ma ( மா, ' mango tree ' ) + kay ( [UNK], ' unripe fruit / vegetable ' ) or the malayalam manna ( [UNK], ' mango tree ' ) + kay\n",
      "---\n",
      "in kashmiri shawls, kanchipuram and silk sarees. in tamil nadu, the mango is referred to as one of the three royal fruits, along with banana and jackfruit, for their sweetness and flavor. this triad of fruits is referred to as ma - pala - vazhai. the classical sanskrit poet kalidasa sang the praises of mangoes. mangoes were the subject of the mango cult in china during the cultural revolution as symbols of chairman mao zedong ' s love for the people. = = see also = = achaar, south asian pickles, commonly containing mango and lime amchoor, mango powder mangifera caesia, a related species also widely cultivated for its fruit in southeast asia mango mealybug mango pickle – mangai - oorkai ( manga - achar ), south indian hot mango pickle aam papad - an indian fruit leather made out of mango pulp mixed with concentrated sugar solution and sun dried. = = references = = = = further reading = = ensminger, audrey h. ; et al. ( 1995 ). the concise encyclopedia of foods & nutrition. crc press. p. 651. isbn 978 - 0 - 8493 - 4455\n",
      "---\n",
      "spanish producer of the fruit. other minor cultivators include north america ( in south florida and the california coachella valley ), hawai ' i, and australia. many commercial cultivars are grafted onto the cold - hardy rootstock of the gomera - 1 mango cultivar, originally from cuba. its root system is well adapted to a coastal mediterranean climate. many of the 1, 000 + mango cultivars are easily cultivated using grafted saplings, ranging from the \" turpentine mango \" ( named for its strong taste of turpentine ) to the bullock ' s heart. dwarf or semidwarf varieties serve as ornamental plants and can be grown in containers. a wide variety of diseases can afflict mangoes. a breakthrough in mango cultivation was the use of potassium nitrate and ethrel to induce flowering in mangoes. the discovery was made by filipino horticulturist ramon barba in 1974 and was developed from the unique traditional method of inducing mango flowering using smoke in the philippines. it allowed mango plantations to induce regular flowering and fruiting year - round. previously, mangoes were seasonal because they only flowered every 16 to 18 months. the method is now used in most mango - producing countries. =\n"
     ]
    }
   ],
   "source": [
    "for ch in relevant_chunks:\n",
    "    print('---\\n' + ch)"
   ]
  },
  {
   "cell_type": "code",
   "execution_count": 15,
   "id": "5b857a79-2e36-4ebe-8af0-f5da964c3837",
   "metadata": {},
   "outputs": [
    {
     "name": "stdout",
     "output_type": "stream",
     "text": [
      "{'score': 0.010328400880098343, 'start': 1116, 'end': 1131, 'answer': 'malayalam manna'}\n"
     ]
    }
   ],
   "source": [
    "ans_model_name = \"deepset/roberta-base-squad2\"\n",
    "qa_tokenizer = AutoTokenizer.from_pretrained(ans_model_name)\n",
    "qa_model = AutoModelForQuestionAnswering.from_pretrained(ans_model_name)\n",
    "qa_pipeline = pipeline(\"question-answering\", model=qa_model, tokenizer=qa_tokenizer)\n",
    "\n",
    "\n",
    "#converting chunk list into text\n",
    "\n",
    "context = ''.join(relevant_chunks)\n",
    "answer = qa_pipeline(question=query, context=context)\n",
    "print(answer)"
   ]
  },
  {
   "cell_type": "code",
   "execution_count": 16,
   "id": "75f68acb-154d-4d5e-b09c-2bf92eef351e",
   "metadata": {},
   "outputs": [
    {
     "data": {
      "text/plain": [
       "'malayalam manna'"
      ]
     },
     "execution_count": 16,
     "metadata": {},
     "output_type": "execute_result"
    }
   ],
   "source": [
    "answer['answer']"
   ]
  },
  {
   "cell_type": "code",
   "execution_count": null,
   "id": "cc12af81-3116-4736-9bbd-9f544108f77d",
   "metadata": {},
   "outputs": [],
   "source": []
  },
  {
   "cell_type": "code",
   "execution_count": null,
   "id": "190d1356-604c-4b57-a7ff-70c69302bc7c",
   "metadata": {},
   "outputs": [],
   "source": []
  },
  {
   "cell_type": "code",
   "execution_count": null,
   "id": "f4dcaf88-3ea4-42e2-8e37-262a942f5357",
   "metadata": {},
   "outputs": [],
   "source": []
  },
  {
   "cell_type": "code",
   "execution_count": null,
   "id": "377bf33e-9d0f-4908-8b2f-0543a5b44822",
   "metadata": {},
   "outputs": [],
   "source": []
  },
  {
   "cell_type": "code",
   "execution_count": null,
   "id": "b0451fd4-9d30-4887-986e-6b2b7d29d6c7",
   "metadata": {},
   "outputs": [],
   "source": []
  },
  {
   "cell_type": "code",
   "execution_count": null,
   "id": "e9cf2b75-ad4d-45bd-9dc0-0c42b5bc5706",
   "metadata": {},
   "outputs": [],
   "source": []
  },
  {
   "cell_type": "code",
   "execution_count": null,
   "id": "9bafa2bf-c480-4b84-8914-eaa125ceb240",
   "metadata": {},
   "outputs": [],
   "source": []
  },
  {
   "cell_type": "code",
   "execution_count": null,
   "id": "579540ca-350f-4d20-a0a4-f56cf3e63b20",
   "metadata": {},
   "outputs": [],
   "source": []
  }
 ],
 "metadata": {
  "kernelspec": {
   "display_name": "Python 3 (ipykernel)",
   "language": "python",
   "name": "python3"
  },
  "language_info": {
   "codemirror_mode": {
    "name": "ipython",
    "version": 3
   },
   "file_extension": ".py",
   "mimetype": "text/x-python",
   "name": "python",
   "nbconvert_exporter": "python",
   "pygments_lexer": "ipython3",
   "version": "3.11.5"
  }
 },
 "nbformat": 4,
 "nbformat_minor": 5
}
